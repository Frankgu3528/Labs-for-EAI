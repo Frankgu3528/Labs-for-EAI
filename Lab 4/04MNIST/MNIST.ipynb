{
 "cells": [
  {
   "cell_type": "markdown",
   "metadata": {
    "id": "wghPZvw8ak82"
   },
   "source": [
    "> Copyright©2022 ZJU EAI\n",
    "\n",
    "\n",
    "## **基于 LeNet-5 的 MNIST 手写数字识别**\n",
    "  1998年，LeCun等人提出了基于卷积（Convolution）的神经网络模型(论文链接 http://yann.lecun.com/exdb/publis/pdf/lecun-98.pdf) 。在本次实验中，您需要实现LeNet-5网络模型实现MNIST数据集手写数字识别，并且至少达到95%以上的正确率。\n",
    "\n",
    "  通常的RGB图片，由R（红）G（绿）B（蓝）三个通道组成，对于一张大小为 H x W 的图片，数据存储可由下方的示意图表示：\n",
    "  \n",
    "  ![channel](https://miro.medium.com/max/1050/1*icINeO4H7UKe3NlU1fXqlA.jpeg)\n",
    "\n",
    "  整张图片由三个[height, width]大小的矩阵组成，矩阵里的每个元素代表一个像素点，像素点的取值为整数的$[0,255]$或者浮点数的$[0,1]$，整张图片可以表示为一个三维的张量$[H,W,C]$，其中H代表长度，W代表宽度，C代表通道数（Channel）。\n",
    "\n",
    "  下面介绍MNIST数据集，MNIST是一个学习深度学习常用的数据集，他由一张张28x28大小的**单通道**灰度图像组成。一张手写数字图片可以表示为一个形状为$[28,28,]$的张量。\n",
    "\n"
   ]
  },
  {
   "cell_type": "markdown",
   "metadata": {},
   "source": [
    "如果您的本地存储空间以及算力不够充足，可以使用Google Colab进行实验，相同的ipynb文件在如下地址：\n",
    "https://drive.google.com/file/d/1IpX3cjJJa-Ctetyz3cejIj1rS8e_7yZg/view?usp=sharing 请复制后自行修改。"
   ]
  },
  {
   "cell_type": "markdown",
   "metadata": {
    "id": "gPY7-0HXjpeH"
   },
   "source": [
    "1. **导入模块**\n",
    "\n",
    "    在这里我们导入`Pytorch`用来进行开发。您应当首先对Pytorch的张量（Tesnor）类有所了解，并掌握张量之间运算的方法（API与Numpy比较相似）。\n",
    "\n",
    "    下面简单介绍一下一些重要的组件：\n",
    "\n",
    "     *   [torch.nn](https://pytorch.org/docs/stable/nn.html): 用于搭建网络的基本组件\n",
    "     *   [torch.utils.data](https://pytorch.org/docs/stable/data.html): 提供了Dataset和Dataloader两个重要的类，用于创建数据集以及加载数据\n",
    "     *   [torch.optim](https://pytorch.org/docs/stable/optim.html): 提供了常用的优化器（optimizer），例如SGD、Adam。您应当对Pytorch的计算图模型以及自动求梯度功能有所了解\n",
    "\n",
    "    `torchvision`是pytorch项目的另一个模块，它包含一些常用的数据集（例如本实验使用的MNIST）、一些训练好的模型、图像处理工具等。\n",
    "\n",
    "    如果有其他问题，可以查询Pytorch的官方文档(https://pytorch.org/docs/stable/index.html)。"
   ]
  },
  {
   "cell_type": "code",
   "execution_count": null,
   "metadata": {
    "id": "M71eO5ngTYn2",
    "scrolled": true
   },
   "outputs": [],
   "source": [
    "# import pytorch module\n",
    "import torch\n",
    "import torch.nn as nn\n",
    "\n",
    "# submodules regarding data\n",
    "from torch.utils.data import Dataset, DataLoader\n",
    "\n",
    "import torchvision\n",
    "\n",
    "\"\"\"\n",
    "Optional: tensorboard is a module developed by Google Tensorflow.\n",
    "It offers convenient logging method to record the training process and visualization.\n",
    "\"\"\"\n",
    "# from torch.utils.tensorboard import SummaryWriter\n",
    "# writer = SummaryWriter(log_dir='/log')\n"
   ]
  },
  {
   "cell_type": "markdown",
   "metadata": {
    "id": "0Kt1-GKGY09G"
   },
   "source": [
    "2. **超参数（Hyper-parameter）的设置**\n",
    "   \n",
    "    除了网络中需要通过梯度下降训练的权重等参数，还有一些参数并不直接参与训练，而是在训练开始前预先设定，因而被称为“超参数”。他们对训练过程的收敛性、收敛速度等有重要影响\n",
    "\n",
    "    下面介绍一下常见的需要设定的超参数：\n",
    "\n",
    "     *  `epoch`: 将训练集中的数据全部经过网络训练一次被称为一个epoch\n",
    "\n",
    "     *  `batch size`: 批（batch）的大小。为了较好的利用GPU并行运算的能力，**mini-batch SGD**每次训练一个batch size大小的数据并且梯度下降一次，batch size过小，那么这一个batch不能很好地反应数据集整体的性质，优化效果差；如果batch size过大，显存的开销较大，而且一个epoch内梯度下降的次数会减少，使得收敛速度变慢。\n",
    "\n",
    "     *  `learning rate`: optimizer的学习率，learning rate过大则收敛性比较差；过小则收敛速度比较慢。此外，部分optimizer还有自己独有的超参数可以设定，例如SGD with momentum、Adam。optimizer还可以设定weight decay用来正则化、schedule用来动态调整学习率。"
   ]
  },
  {
   "cell_type": "code",
   "execution_count": null,
   "metadata": {
    "id": "JC8evftObyCW"
   },
   "outputs": [],
   "source": [
    "# Hyperparameters\n",
    "train_batch_size = 4\n",
    "valid_batch_size = 2\n",
    "num_epochs = 10\n",
    "learning_rate = 0.001"
   ]
  },
  {
   "cell_type": "markdown",
   "metadata": {
    "id": "Z581gFeas5W-"
   },
   "source": [
    "3. **定义网络结构**\n",
    "\n",
    "    自定义的网络需要继承`nn.Module`类，并且实现前向传播的`forward`函数，优化时，pytorch会帮您完成求梯度的过程。\n",
    "\n",
    "    以下是常见的网络层，可以在官方文档找到使用方法：\n",
    "\n",
    "     *  **Convolution**: nn.Conv1d, nn.Conv2d\n",
    "\n",
    "     *  **Pooling**: nn.AvgPool2d, nn.MaxPool2d\n",
    "\n",
    "     *  **Non-linear activation function**: nn.Relu, nn.Sigmoid, nn.Tanh\n",
    "\n",
    "     *  **Full connection**: nn.Linear\n",
    "\n",
    "     *  **Dropout**: nn.Dropout\n",
    "    \n",
    "    下方实现了一个最简单的模型，它由一层全连接层构成，它将接受一个形状为$[B, 32, ]$的张量的输入，输出一个$[B, 2, ]$的张量作为特征输出，其中B代表batch size。特征输出经过进一步得到输入的向量从属于某个类别的概率，我们可以用来计算损失函数，或者进行预测。\n",
    "\n",
    "    例如，我们要把向量分为两类，标为$0,1$，输入32位向量$[1,1,..,1]$，最后得到概率$[0.3,0.7]$，说明网络认为该向量有30%的概率属于类0，70%的概率属于类1。当然，这是一个非常简单的模型，分类的正确率不会很高。\n",
    "\n",
    "    你需要根据LeCun的论文完成`LeNet-5`的网络定义（可以进行适当修改），完成`forward`函数。请注意，网络的输入是二维图片，形状为$[B, H, W, ]$，请特别注意张量经过网络层时形状的变化，否则会产生报错。\n",
    "\n",
    "    "
   ]
  },
  {
   "cell_type": "code",
   "execution_count": null,
   "metadata": {
    "id": "lCq_ej_-TYoB"
   },
   "outputs": [],
   "source": [
    "# 网络架构的定义\n",
    "\n",
    "class BoringModel(nn.Module):\n",
    "  \"\"\"\n",
    "  Boring model as example.\n",
    "  This model gets a input tensor of shape [batch_size, 32],\n",
    "  and produce an output of shape [batch_size, 2]. You can assume that\n",
    "  we classify the input tensor into 2 classes.\n",
    "\n",
    "  Please implement LeNet-5 Model yourself to recognize the numbers.\n",
    "  Keep in mind that you should pay attention to shape of tensors and\n",
    "  handle it carefully.\n",
    "  \"\"\"\n",
    "  def __init__(self):\n",
    "    super(BoringModel, self).__init__()\n",
    "    # define the layers of the net\n",
    "    self.layer = nn.Linear(32, 2)\n",
    "  \n",
    "  # Do forward propagation and get output\n",
    "  def forward(self, x):\n",
    "    x = self.layer(x)\n",
    "    return x\n",
    "\n",
    "# Create a instance of our model.\n",
    "model = BoringModel()\n",
    "# Create a model and send its parameters to device.\n",
    "# If you have GPUs and CUDA installed, they will on GPU memory.\n",
    "device = torch.device('cuda' if torch.cuda.is_available() else 'cpu')\n",
    "model = model.to(device)\n",
    "# print(model)"
   ]
  },
  {
   "cell_type": "markdown",
   "metadata": {
    "id": "E6Surz_4u1J_"
   },
   "source": [
    "4. **准备数据和数据加载器**\n",
    "\n",
    "    方便起见，这里我们使用`torchvision`的MNIST数据集，它是Pytorch内部使用的Dataset类型，可以作为Dataloader的输入参数项。\n",
    "\n",
    "    **需要注意的是**：你可能会遇到以下报错\n",
    "    ```bash\n",
    "    TypeError: default_collate: batch must contain tensors, numpy arrays, numbers, dicts or lists; found <class 'PIL.Image.Image'>\n",
    "    ```\n",
    "    这是因为，MNIST数据集内部仍然是图形格式，而模型不能直接把图片作为输入，你需要把图片转化为pytorch张量；同时，为了较好地学习到图像地特征，你需要对MNIST数据集进行归一化（Normalize）。这些变换都应当由下方代码的transform处给出，详细请参考`torchvision.transforms`对进行数据集进行处理。\n",
    "\n",
    "\n",
    "    当你对数据集完成适当的处理，就可以创建dataloader，dataloader每次会返回一个batch的数据。在train时我们应当打乱数据的顺序，以提高训练效果，validation和test时没有必要打乱数据，这由参数shuffle控制。\n",
    "\n",
    "    下面简单介绍以下几个数据集相关的概念:\n",
    "\n",
    "     *  `train set`: 训练数据集，每次我们从中随机抽取batch size个图片组成一个batch进行前向传播，计算梯度做一次梯度下降优化。随着训练的进行，模型在训练集中的loss会逐渐下降。\n",
    "\n",
    "     *  `validation set`: 验证数据集，用来监测训练过程，例如，当模型在训练集上loss下降，但在验证集上loss反而上升时，可能说明模型过拟合，应当提早结束训练。\n",
    "\n",
    "     *  `test set`: 测试数据集，用来验证模型的泛化能力。"
   ]
  },
  {
   "cell_type": "code",
   "execution_count": null,
   "metadata": {
    "id": "JIOy3kS9WjPF"
   },
   "outputs": [],
   "source": [
    "# 准备 dataset 和 dataloder.\n",
    "\n",
    "transform = None\n",
    "\n",
    "train_set = torchvision.datasets.MNIST(root=\"/path/to/place/put/dataset\", train=True, download=True, transform=transform)\n",
    "train_loader = DataLoader(train_set, batch_size=train_batch_size, shuffle=True)\n",
    "\n",
    "valid_set = torchvision.datasets.MNIST(root=\"/path/to/place/put/dataset\", train=False, download=True, transform=transform)\n",
    "valid_loader = DataLoader(valid_set, batch_size=valid_batch_size, shuffle=False)"
   ]
  },
  {
   "cell_type": "markdown",
   "metadata": {
    "id": "5cd160hE1v_2"
   },
   "source": [
    "下面我们从dataloader中随机抽取几张图片并且展示，下面是可能的效果：\n",
    "\n",
    "![image.png](data:image/png;base64,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)"
   ]
  },
  {
   "cell_type": "code",
   "execution_count": null,
   "metadata": {
    "id": "0BDMb_UwybAo"
   },
   "outputs": [],
   "source": [
    "import matplotlib.pyplot as plt\n",
    "import numpy as np\n",
    "\n",
    "# functions to show an image\n",
    "def imshow(img):\n",
    "    # do something to unnormalize the img\n",
    "    npimg = img.numpy()\n",
    "    plt.imshow(np.transpose(npimg, (1, 2, 0)))\n",
    "    plt.show()\n",
    "\n",
    "\n",
    "# get some random training images\n",
    "dataiter = iter(train_loader)\n",
    "images, labels = dataiter.next()\n",
    "\n",
    "classes = ['0', '1', '2', '3', '4', '5', '6', '7', '8', '9']\n",
    "imshow(torchvision.utils.make_grid(images))\n",
    "print(' '.join('%5s' % classes[labels[j]] for j in range(4)))"
   ]
  },
  {
   "cell_type": "markdown",
   "metadata": {
    "id": "Pa9-1cWhwTl4"
   },
   "source": [
    "5. **训练过程与验证过程**\n",
    "\n",
    "    在这里我们选择每个epoch进行一次Validation\n",
    "\n",
    "    您需要：\n",
    "\n",
    "      *   选择合适的[损失函数](https://pytorch.org/docs/stable/nn.html#loss-functions)（loss function）以及[优化器](https://pytorch.org/docs/stable/optim.html)（optimizer），设定优化器可能的超参数。\n",
    "\n",
    "      *   **训练模型**：前向传播，计算loss，反向传播得到梯度，优化器梯度下降更新参数一次，称为一次training step，下方代码已给出，你需要实现代码，把合适的变量输出，从而你能看到随着训练进行，模型在训练集的loss逐渐下降，说明模型逐渐学习到图片的特征。\n",
    "\n",
    "      *   **验证模型**：前向传播，得到模型预测的结果，和正确的标签进行对比，计算并且输出模型预测的正确率。请实现代码，"
   ]
  },
  {
   "cell_type": "code",
   "execution_count": null,
   "metadata": {
    "id": "L_nhQShBTYoF"
   },
   "outputs": [],
   "source": [
    "# 训练过程\n",
    "\n",
    "\n",
    "# Dummy loss function\n",
    "loss_fn = torch.sum\n",
    "# Prepare optimizer\n",
    "optimizer = torch.optim.SGD(model.parameters(), lr=learning_rate)\n",
    "\n",
    "\n",
    "for epoch in range(num_epochs): \n",
    "    # Training process.\n",
    "    model.train()\n",
    "    for i, (batch, label) in enumerate(train_loader):\n",
    "      # send the training batch to the device\n",
    "      batch = batch.to(device)\n",
    "      # forward propagation.\n",
    "      output = model(batch) \n",
    "      \n",
    "      # clear the grad in the last training step\n",
    "      optimizer.zero_grad() \n",
    "      # calculate the loss.\n",
    "      loss = loss_fn(output)\n",
    "\n",
    "      # back propagation, get grad.\n",
    "      loss.backward() \n",
    "      # update the weights once.\n",
    "      optimizer.step() \n",
    "\n",
    "      # ============ 请在此实现您的代码 ===================\n",
    "      # 请实现代码，输出 train 过程的 loss:\n",
    "      # 您应当发现随着训练的进行，training loss 逐渐下降，并最后逐渐收敛\n",
    "      # =================================================\n",
    "\n",
    "    # Validation process.\n",
    "    # .eval() will set some layers in validation state\n",
    "    model.eval()\n",
    "    correct = 0\n",
    "    total = 0\n",
    "    # torch.no_grad() would set model not do the gradient computing\n",
    "    with torch.no_grad():\n",
    "      for test_data, test_label in valid_loader:\n",
    "        # ================= 请在此实现您的代码 ============================\n",
    "        # 在此实现从验证集读取数据输入给模型，模型得到预测的分类结果，\n",
    "        # 计算并且输出模型预测的正确率。\n",
    "        # 您可以先提前猜测，随着训练进行，模型预测正确率（ACC）的变化情况。\n",
    "        # ================================================================\n",
    "    \n",
    "    print(\"Epoch [{}/{}], Acc: {:.4f} %\".format(epoch, num_epochs, 100 * correct / total))\n",
    "\n",
    "\n",
    "# Close the tensorboard writer\n",
    "# writer.flush()\n",
    "# writer.close()"
   ]
  }
 ],
 "metadata": {
  "colab": {
   "collapsed_sections": [],
   "name": "MNIST.ipynb",
   "provenance": []
  },
  "kernelspec": {
   "display_name": "Python 3 (ipykernel)",
   "language": "python",
   "name": "python3"
  },
  "language_info": {
   "codemirror_mode": {
    "name": "ipython",
    "version": 3
   },
   "file_extension": ".py",
   "mimetype": "text/x-python",
   "name": "python",
   "nbconvert_exporter": "python",
   "pygments_lexer": "ipython3",
   "version": "3.9.7"
  }
 },
 "nbformat": 4,
 "nbformat_minor": 1
}
